{
 "cells": [
  {
   "cell_type": "code",
   "execution_count": 1,
   "id": "6e70aef8-89c3-43a2-84d4-c36275810b91",
   "metadata": {},
   "outputs": [],
   "source": [
    "import pandas as pd\n",
    "import matplotlib.pyplot as plt\n",
    "import seaborn as sns\n",
    "import requests\n",
    "from sqlalchemy import create_engine\n",
    "from dotenv import load_dotenv\n",
    "import os"
   ]
  },
  {
   "cell_type": "markdown",
   "id": "647c61cc-9049-4bdc-bc84-ebea5f5bf31b",
   "metadata": {},
   "source": [
    "## Extract"
   ]
  },
  {
   "cell_type": "code",
   "execution_count": 3,
   "id": "c5ad9bde-9da7-4537-b5d7-ed5d2320c98a",
   "metadata": {},
   "outputs": [
    {
     "data": {
      "text/plain": [
       "True"
      ]
     },
     "execution_count": 3,
     "metadata": {},
     "output_type": "execute_result"
    }
   ],
   "source": [
    "load_dotenv()"
   ]
  },
  {
   "cell_type": "code",
   "execution_count": 4,
   "id": "40f68ede-b311-4057-bb21-51145af75116",
   "metadata": {},
   "outputs": [],
   "source": [
    "URL = 'https://www.alphavantage.co/query'\n",
    "API_KEY = os.getenv(\"ALPHA_VANTAGE_API_KEY\")"
   ]
  },
  {
   "cell_type": "code",
   "execution_count": 5,
   "id": "5180d54c-d3b5-42c4-ad3e-92762890a511",
   "metadata": {},
   "outputs": [],
   "source": [
    "def fetch_data(symbol):\n",
    "    params = {\n",
    "        'function': 'TIME_SERIES_WEEKLY',\n",
    "        'symbol': symbol,\n",
    "        'apikey': API_KEY        \n",
    "    }\n",
    "    response = requests.get(URL, params=params)\n",
    "    if response.status_code == 200:\n",
    "        data = response.json()\n",
    "        return data\n",
    "    else:\n",
    "        print(f'Error! Status code: {response.status_code}')\n",
    "        return None"
   ]
  },
  {
   "cell_type": "code",
   "execution_count": 6,
   "id": "d50e1464-74dc-4c5d-8f93-44cc9debfdaf",
   "metadata": {},
   "outputs": [],
   "source": [
    "stock_data = fetch_data('IBM')"
   ]
  },
  {
   "cell_type": "markdown",
   "id": "086dd54d-0d4c-4786-a323-e7b3126c3ce0",
   "metadata": {},
   "source": [
    "## Transform"
   ]
  },
  {
   "cell_type": "code",
   "execution_count": 8,
   "id": "453bcf48-8f0a-4c16-b450-73ef8a03d88c",
   "metadata": {},
   "outputs": [],
   "source": [
    "def parse_series(data):\n",
    "    time_series_key = \"Weekly Time Series\"\n",
    "    if time_series_key in data:\n",
    "        df = pd.DataFrame.from_dict(data[time_series_key], orient = 'index')\n",
    "        df = df.rename(columns = lambda x: x.split(' ')[1])\n",
    "        df.index = pd.to_datetime(df.index)\n",
    "        df = df.astype(float)\n",
    "        return df.sort_index()\n",
    "    else:\n",
    "        print(\"Error!\")\n",
    "        return None"
   ]
  },
  {
   "cell_type": "code",
   "execution_count": 9,
   "id": "78caf142-1650-47b8-a9a8-67182ec44b9d",
   "metadata": {},
   "outputs": [],
   "source": [
    "weekly_stock_df = parse_series(stock_data)"
   ]
  },
  {
   "cell_type": "code",
   "execution_count": 10,
   "id": "0debc667-d771-4006-825e-542238588083",
   "metadata": {},
   "outputs": [
    {
     "data": {
      "text/html": [
       "<div>\n",
       "<style scoped>\n",
       "    .dataframe tbody tr th:only-of-type {\n",
       "        vertical-align: middle;\n",
       "    }\n",
       "\n",
       "    .dataframe tbody tr th {\n",
       "        vertical-align: top;\n",
       "    }\n",
       "\n",
       "    .dataframe thead th {\n",
       "        text-align: right;\n",
       "    }\n",
       "</style>\n",
       "<table border=\"1\" class=\"dataframe\">\n",
       "  <thead>\n",
       "    <tr style=\"text-align: right;\">\n",
       "      <th></th>\n",
       "      <th>open</th>\n",
       "      <th>high</th>\n",
       "      <th>low</th>\n",
       "      <th>close</th>\n",
       "      <th>volume</th>\n",
       "    </tr>\n",
       "  </thead>\n",
       "  <tbody>\n",
       "    <tr>\n",
       "      <th>1999-11-12</th>\n",
       "      <td>90.50</td>\n",
       "      <td>97.50</td>\n",
       "      <td>90.50</td>\n",
       "      <td>95.87</td>\n",
       "      <td>43569700.0</td>\n",
       "    </tr>\n",
       "    <tr>\n",
       "      <th>1999-11-19</th>\n",
       "      <td>96.00</td>\n",
       "      <td>105.12</td>\n",
       "      <td>92.62</td>\n",
       "      <td>103.94</td>\n",
       "      <td>61550800.0</td>\n",
       "    </tr>\n",
       "    <tr>\n",
       "      <th>1999-11-26</th>\n",
       "      <td>105.50</td>\n",
       "      <td>109.87</td>\n",
       "      <td>101.81</td>\n",
       "      <td>105.00</td>\n",
       "      <td>37165600.0</td>\n",
       "    </tr>\n",
       "    <tr>\n",
       "      <th>1999-12-03</th>\n",
       "      <td>104.94</td>\n",
       "      <td>112.87</td>\n",
       "      <td>102.12</td>\n",
       "      <td>111.87</td>\n",
       "      <td>37670000.0</td>\n",
       "    </tr>\n",
       "    <tr>\n",
       "      <th>1999-12-10</th>\n",
       "      <td>113.00</td>\n",
       "      <td>122.12</td>\n",
       "      <td>107.56</td>\n",
       "      <td>109.00</td>\n",
       "      <td>58626000.0</td>\n",
       "    </tr>\n",
       "  </tbody>\n",
       "</table>\n",
       "</div>"
      ],
      "text/plain": [
       "              open    high     low   close      volume\n",
       "1999-11-12   90.50   97.50   90.50   95.87  43569700.0\n",
       "1999-11-19   96.00  105.12   92.62  103.94  61550800.0\n",
       "1999-11-26  105.50  109.87  101.81  105.00  37165600.0\n",
       "1999-12-03  104.94  112.87  102.12  111.87  37670000.0\n",
       "1999-12-10  113.00  122.12  107.56  109.00  58626000.0"
      ]
     },
     "execution_count": 10,
     "metadata": {},
     "output_type": "execute_result"
    }
   ],
   "source": [
    "weekly_stock_df.head()"
   ]
  },
  {
   "cell_type": "code",
   "execution_count": 11,
   "id": "67e08656-f987-4376-9665-4c0d1bab698f",
   "metadata": {},
   "outputs": [
    {
     "name": "stdout",
     "output_type": "stream",
     "text": [
      "open      0\n",
      "high      0\n",
      "low       0\n",
      "close     0\n",
      "volume    0\n",
      "dtype: int64\n"
     ]
    }
   ],
   "source": [
    "print(weekly_stock_df.isnull().sum())"
   ]
  },
  {
   "cell_type": "code",
   "execution_count": 12,
   "id": "13ab3594-d09f-4136-80b3-ab8ea66a3870",
   "metadata": {},
   "outputs": [
    {
     "name": "stdout",
     "output_type": "stream",
     "text": [
      "open      float64\n",
      "high      float64\n",
      "low       float64\n",
      "close     float64\n",
      "volume    float64\n",
      "dtype: object\n"
     ]
    }
   ],
   "source": [
    "print(weekly_stock_df.dtypes)"
   ]
  },
  {
   "cell_type": "code",
   "execution_count": 13,
   "id": "7d3c7d1c-f375-4860-aba8-94c26189250d",
   "metadata": {},
   "outputs": [
    {
     "name": "stdout",
     "output_type": "stream",
     "text": [
      "0\n"
     ]
    }
   ],
   "source": [
    "print(weekly_stock_df.duplicated().sum())"
   ]
  },
  {
   "cell_type": "code",
   "execution_count": 14,
   "id": "f45e3a05-b6dd-4d4b-af8f-31fa2cca284a",
   "metadata": {},
   "outputs": [
    {
     "name": "stdout",
     "output_type": "stream",
     "text": [
      "              open         high          low        close        volume\n",
      "count  1319.000000  1319.000000  1319.000000  1319.000000  1.319000e+03\n",
      "mean    132.745703   135.799157   129.932843   132.932270  2.833523e+07\n",
      "std      37.612317    38.044101    37.301415    37.776034  1.309048e+07\n",
      "min      56.600000    62.000000    54.010000    56.600000  7.770697e+06\n",
      "25%     101.410000   106.085000    98.690000   102.080000  1.868110e+07\n",
      "50%     129.390000   132.100000   126.850000   129.260000  2.517370e+07\n",
      "75%     158.510000   161.855000   154.625000   158.940000  3.468358e+07\n",
      "max     252.400000   265.720000   251.840000   261.280000  1.108978e+08\n"
     ]
    }
   ],
   "source": [
    "print(weekly_stock_df.describe())"
   ]
  },
  {
   "cell_type": "code",
   "execution_count": 15,
   "id": "5dd29697-2875-4a36-abc9-abcb1f39f7ad",
   "metadata": {},
   "outputs": [],
   "source": [
    "weekly_stock_df = weekly_stock_df.round(2)"
   ]
  },
  {
   "cell_type": "code",
   "execution_count": 16,
   "id": "a7fdcee3-2cec-42e5-8406-74787fbf457e",
   "metadata": {},
   "outputs": [],
   "source": [
    "weekly_stock_df.reset_index(inplace=True)"
   ]
  },
  {
   "cell_type": "code",
   "execution_count": 17,
   "id": "5df0fca9-ffe2-4ff6-a632-547b11f2c71b",
   "metadata": {},
   "outputs": [],
   "source": [
    "weekly_stock_df.rename(columns={'index': 'date'}, inplace=True)"
   ]
  },
  {
   "cell_type": "code",
   "execution_count": 45,
   "id": "f8b18b07-a67a-4495-baa9-7b1acee88e20",
   "metadata": {},
   "outputs": [
    {
     "data": {
      "text/html": [
       "<div>\n",
       "<style scoped>\n",
       "    .dataframe tbody tr th:only-of-type {\n",
       "        vertical-align: middle;\n",
       "    }\n",
       "\n",
       "    .dataframe tbody tr th {\n",
       "        vertical-align: top;\n",
       "    }\n",
       "\n",
       "    .dataframe thead th {\n",
       "        text-align: right;\n",
       "    }\n",
       "</style>\n",
       "<table border=\"1\" class=\"dataframe\">\n",
       "  <thead>\n",
       "    <tr style=\"text-align: right;\">\n",
       "      <th></th>\n",
       "      <th>date</th>\n",
       "      <th>open</th>\n",
       "      <th>high</th>\n",
       "      <th>low</th>\n",
       "      <th>close</th>\n",
       "      <th>volume</th>\n",
       "    </tr>\n",
       "  </thead>\n",
       "  <tbody>\n",
       "    <tr>\n",
       "      <th>0</th>\n",
       "      <td>1999-11-12</td>\n",
       "      <td>90.50</td>\n",
       "      <td>97.50</td>\n",
       "      <td>90.50</td>\n",
       "      <td>95.87</td>\n",
       "      <td>43569700.0</td>\n",
       "    </tr>\n",
       "    <tr>\n",
       "      <th>1</th>\n",
       "      <td>1999-11-19</td>\n",
       "      <td>96.00</td>\n",
       "      <td>105.12</td>\n",
       "      <td>92.62</td>\n",
       "      <td>103.94</td>\n",
       "      <td>61550800.0</td>\n",
       "    </tr>\n",
       "    <tr>\n",
       "      <th>2</th>\n",
       "      <td>1999-11-26</td>\n",
       "      <td>105.50</td>\n",
       "      <td>109.87</td>\n",
       "      <td>101.81</td>\n",
       "      <td>105.00</td>\n",
       "      <td>37165600.0</td>\n",
       "    </tr>\n",
       "    <tr>\n",
       "      <th>3</th>\n",
       "      <td>1999-12-03</td>\n",
       "      <td>104.94</td>\n",
       "      <td>112.87</td>\n",
       "      <td>102.12</td>\n",
       "      <td>111.87</td>\n",
       "      <td>37670000.0</td>\n",
       "    </tr>\n",
       "    <tr>\n",
       "      <th>4</th>\n",
       "      <td>1999-12-10</td>\n",
       "      <td>113.00</td>\n",
       "      <td>122.12</td>\n",
       "      <td>107.56</td>\n",
       "      <td>109.00</td>\n",
       "      <td>58626000.0</td>\n",
       "    </tr>\n",
       "  </tbody>\n",
       "</table>\n",
       "</div>"
      ],
      "text/plain": [
       "        date    open    high     low   close      volume\n",
       "0 1999-11-12   90.50   97.50   90.50   95.87  43569700.0\n",
       "1 1999-11-19   96.00  105.12   92.62  103.94  61550800.0\n",
       "2 1999-11-26  105.50  109.87  101.81  105.00  37165600.0\n",
       "3 1999-12-03  104.94  112.87  102.12  111.87  37670000.0\n",
       "4 1999-12-10  113.00  122.12  107.56  109.00  58626000.0"
      ]
     },
     "execution_count": 45,
     "metadata": {},
     "output_type": "execute_result"
    }
   ],
   "source": [
    "weekly_stock_df.head()"
   ]
  },
  {
   "cell_type": "markdown",
   "id": "56074464-f3ea-4ffb-85b4-211a0268c967",
   "metadata": {},
   "source": [
    "## Visualizations"
   ]
  },
  {
   "cell_type": "code",
   "execution_count": 19,
   "id": "87085f4a-542f-498d-ad55-23fba9ce7ee8",
   "metadata": {},
   "outputs": [
    {
     "data": {
      "text/plain": [
       "<Axes: ylabel='close'>"
      ]
     },
     "execution_count": 19,
     "metadata": {},
     "output_type": "execute_result"
    },
    {
     "data": {
      "image/png": "[encoded data removed]",
      "text/plain": [
       "<Figure size 640x480 with 1 Axes>"
      ]
     },
     "metadata": {},
     "output_type": "display_data"
    }
   ],
   "source": [
    "sns.boxplot(y = weekly_stock_df['close'])"
   ]
  },
  {
   "cell_type": "code",
   "execution_count": 20,
   "id": "1a675c7a-f72c-4dc0-ad1c-84682f78ee4e",
   "metadata": {},
   "outputs": [
    {
     "data": {
      "text/plain": [
       "Text(0, 0.5, 'Frequency')"
      ]
     },
     "execution_count": 20,
     "metadata": {},
     "output_type": "execute_result"
    },
    {
     "data": {
      "image/png": "[encoded data removed]",
      "text/plain": [
       "<Figure size 640x480 with 1 Axes>"
      ]
     },
     "metadata": {},
     "output_type": "display_data"
    }
   ],
   "source": [
    "plt.hist(weekly_stock_df['close'], bins=20)\n",
    "plt.xlabel('Price')\n",
    "plt.ylabel('Frequency')"
   ]
  },
  {
   "cell_type": "code",
   "execution_count": 21,
   "id": "24690208-2e64-40f5-ba6c-e17d7963fd05",
   "metadata": {},
   "outputs": [
    {
     "data": {
      "text/plain": [
       "<matplotlib.collections.PathCollection at 0x222eb8922d0>"
      ]
     },
     "execution_count": 21,
     "metadata": {},
     "output_type": "execute_result"
    },
    {
     "data": {
      "image/png": "[encoded data removed]",
      "text/plain": [
       "<Figure size 640x480 with 1 Axes>"
      ]
     },
     "metadata": {},
     "output_type": "display_data"
    }
   ],
   "source": [
    "plt.scatter(weekly_stock_df['date'], weekly_stock_df['close'])"
   ]
  },
  {
   "cell_type": "markdown",
   "id": "f1b80ce1-590d-43a5-a4cf-94defc5001ae",
   "metadata": {},
   "source": [
    "## Exporting to database"
   ]
  },
  {
   "cell_type": "code",
   "execution_count": 23,
   "id": "c47d82fd-bcc0-4cac-937c-71ed4afb0ce7",
   "metadata": {},
   "outputs": [],
   "source": [
    "connection_string = os.getenv(\"DB_CONNECTION_STRING\")\n",
    "engine = create_engine(connection_string)"
   ]
  },
  {
   "cell_type": "code",
   "execution_count": 24,
   "id": "a737325e-b3ce-484e-b962-7774cbc0ce60",
   "metadata": {},
   "outputs": [
    {
     "data": {
      "text/plain": [
       "319"
      ]
     },
     "execution_count": 24,
     "metadata": {},
     "output_type": "execute_result"
    }
   ],
   "source": [
    "table_name = 'weekly_stock_data'\n",
    "weekly_stock_df.to_sql(\n",
    "    name=table_name,\n",
    "    con=engine,\n",
    "    if_exists=\"replace\",\n",
    "    index=False\n",
    ")"
   ]
  }
 ],
 "metadata": {
  "kernelspec": {
   "display_name": "Python 3 (ipykernel)",
   "language": "python",
   "name": "python3"
  },
  "language_info": {
   "codemirror_mode": {
    "name": "ipython",
    "version": 3
   },
   "file_extension": ".py",
   "mimetype": "text/x-python",
   "name": "python",
   "nbconvert_exporter": "python",
   "pygments_lexer": "ipython3",
   "version": "3.11.5"
  }
 },
 "nbformat": 4,
 "nbformat_minor": 5
}
